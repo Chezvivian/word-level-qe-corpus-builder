{
 "cells": [
  {
   "cell_type": "markdown",
   "metadata": {
    "deletable": true,
    "editable": true
   },
   "source": [
    "# Investigate BAD-tag approaches"
   ]
  },
  {
   "cell_type": "code",
   "execution_count": null,
   "metadata": {
    "collapsed": true
   },
   "outputs": [],
   "source": [
    "# Random sample of specific error types\n",
    "import numpy as np"
   ]
  },
  {
   "cell_type": "code",
   "execution_count": null,
   "metadata": {
    "collapsed": false,
    "deletable": true,
    "editable": true
   },
   "outputs": [],
   "source": [
    "import codecs\n",
    "import json\n",
    "\n",
    "def read_file(file_path):\n",
    "    with codecs.open(file_path, 'r', 'utf-8') as fid:\n",
    "        return [line.rstrip() for line in fid.readlines()]\n",
    "   \n",
    "def read_error_detail(file_path):\n",
    "    with codecs.open(file_path, 'r', 'utf-8') as fid:\n",
    "        return [json.loads(line.strip()) for line in fid.readlines()]\n",
    "\n",
    "def red(string):\n",
    "    return \"\\033[31m%s\\033[0m\" % string\n",
    "\n",
    "def display(tokens, tags=None):\n",
    "    \"\"\"\n",
    "    Same number of tags as tokens\n",
    "    \"\"\"\n",
    "    nr_tokens = len(tokens)\n",
    "    display = []\n",
    "    for word_index in range(nr_tokens):\n",
    "        if tags and tags[word_index] == 'BAD':\n",
    "            display.append(red(tokens[word_index]))\n",
    "        else:\n",
    "            display.append(tokens[word_index])\n",
    "    print \" \".join(display)\n",
    "\n",
    "def display_v001(tokens, tags):\n",
    "    \"\"\"\n",
    "    Number of tags is twice the number of tokens, imply gaps\n",
    "    \"\"\"\n",
    "    nr_tokens = len(tokens)\n",
    "    display = []\n",
    "    \n",
    "    # Initial OK/BAD gap\n",
    "    if tags[0] == 'BAD':\n",
    "        display = [red('___')]\n",
    "    else:\n",
    "        display = []\n",
    "    \n",
    "    # Separate word and gap tags\n",
    "    word_tags = tags[1:][::2]\n",
    "    gap_tags = tags[1:][1::2]\n",
    "    \n",
    "    for word_index in range(nr_tokens):\n",
    "        # Word tag\n",
    "        if word_tags[word_index] == 'BAD':\n",
    "            display.append(red(tokens[word_index]))\n",
    "        else:\n",
    "            display.append(tokens[word_index])\n",
    "        # Gap tag        \n",
    "        if gap_tags[word_index] == 'BAD':\n",
    "            display.append(red('___'))\n",
    "    print \" \".join(display)\n",
    "    \n",
    "    \n",
    "def read_alignments(alignments_file):\n",
    "    alignments = [] \n",
    "    with open(alignments_file, 'r') as fid:\n",
    "        for line in fid.readlines():\n",
    "            alignments.append([[int(y) for y in x.split('-')] for x in line.rstrip().split()])\n",
    "    return alignments"
   ]
  },
  {
   "cell_type": "markdown",
   "metadata": {
    "deletable": true,
    "editable": true
   },
   "source": [
    "## WMT 2018 Data"
   ]
  },
  {
   "cell_type": "code",
   "execution_count": null,
   "metadata": {
    "collapsed": true
   },
   "outputs": [],
   "source": [
    "# de-en.smt en-cs.smt en-de.nmt en-de.smt en-lv.nmt en-lv.smt\n",
    "language_engine = 'de-en.smt'\n",
    "sset = 'dev'\n",
    "#wmt2018 = '/home/ramon/TMP/redefine_word_qe/DATA/WMT2018/task2_%s_%s/' % (language_engine, sset)\n",
    "wmt2018 = '/home/ramon/redefine_word_qe/DATA/WMT2018/task2_%s_%s/' % (language_engine, sset)"
   ]
  },
  {
   "cell_type": "code",
   "execution_count": null,
   "metadata": {
    "collapsed": false,
    "deletable": true,
    "editable": true
   },
   "outputs": [],
   "source": [
    "# Data\n",
    "source_tokens = [x.split() for x in read_file(\"%s/%s.src\" % (wmt2018, sset))]\n",
    "mt_tokens = [x.split() for x in read_file(\"%s/%s.mt\" % (wmt2018, sset))]\n",
    "pe_tokens = [x.split() for x in read_file(\"%s/%s.pe\" % (wmt2018, sset))]\n",
    "# Tags v0.0.1\n",
    "# To generate this data see redefine_word_qe repository\n",
    "source_tags = [x.split() for x in read_file(\"%s/%s.source_tags\" % (wmt2018, sset))]\n",
    "target_tags = [x.split() for x in read_file(\"%s/%s.tags\" % (wmt2018, sset))]\n",
    "# Details not available to participants\n",
    "source_mt_alignments = read_alignments(\"%s/%s.src-mt.alignments\" % (wmt2018, sset))\n",
    "error_details = read_error_detail(\"%s/%s.json\" % (wmt2018, sset))"
   ]
  },
  {
   "cell_type": "code",
   "execution_count": null,
   "metadata": {
    "collapsed": false
   },
   "outputs": [],
   "source": [
    "from collections import Counter, defaultdict\n",
    "indices_by_error = defaultdict(set)\n",
    "for index, error_detail in enumerate(error_details):\n",
    "    for error in error_detail:\n",
    "        indices_by_error[error['type']].add(index)"
   ]
  },
  {
   "cell_type": "markdown",
   "metadata": {},
   "source": [
    "### Check error types"
   ]
  },
  {
   "cell_type": "code",
   "execution_count": null,
   "metadata": {
    "collapsed": false,
    "deletable": true,
    "editable": true
   },
   "outputs": [],
   "source": [
    "#indices = list(indices_by_error[u'deletion'])\n",
    "indices = range(len(mt_tokens))\n",
    "index = indices[int(np.random.choice(len(indices), 1))]\n",
    "#index = 3\n",
    "print \"Source / Post-Edited / MT (%s)\" % index\n",
    "for error in error_details[index]:\n",
    "    print error\n",
    "print \"----------------------------------------\"\n",
    "display(source_tokens[index][:], source_tags[index][:])\n",
    "display(pe_tokens[index][:])\n",
    "display_v001(mt_tokens[index][:], target_tags[index][:])"
   ]
  },
  {
   "cell_type": "code",
   "execution_count": null,
   "metadata": {
    "collapsed": true
   },
   "outputs": [],
   "source": []
  }
 ],
 "metadata": {
  "kernelspec": {
   "display_name": "Python 2",
   "language": "python",
   "name": "python2"
  },
  "language_info": {
   "codemirror_mode": {
    "name": "ipython",
    "version": 2
   },
   "file_extension": ".py",
   "mimetype": "text/x-python",
   "name": "python",
   "nbconvert_exporter": "python",
   "pygments_lexer": "ipython2",
   "version": "2.7.12"
  }
 },
 "nbformat": 4,
 "nbformat_minor": 1
}

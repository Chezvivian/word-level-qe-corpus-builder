{
 "cells": [
  {
   "cell_type": "markdown",
   "metadata": {},
   "source": [
    "# Investigate BAD-tag approaches"
   ]
  },
  {
   "cell_type": "code",
   "execution_count": null,
   "metadata": {
    "collapsed": true
   },
   "outputs": [],
   "source": [
    "LANGUAGE_PAIR = \"en-de\""
   ]
  },
  {
   "cell_type": "code",
   "execution_count": null,
   "metadata": {
    "collapsed": false
   },
   "outputs": [],
   "source": [
    "import codecs\n",
    "import json\n",
    "\n",
    "def read_file(file_path):\n",
    "    with codecs.open(file_path, 'r', 'utf-8') as fid:\n",
    "        return [line.rstrip() for line in fid.readlines()]\n",
    "   \n",
    "def read_error_detail(file_path):\n",
    "    with codecs.open(file_path, 'r', 'utf-8') as fid:\n",
    "        return [json.loads(line.strip()) for line in fid.readlines()]\n",
    "\n",
    "def red(string):\n",
    "    return \"\\033[31m%s\\033[0m\" % string\n",
    "\n",
    "def display(tokens, tags=None):\n",
    "    \"\"\"\n",
    "    Same number of tags as tokens\n",
    "    \"\"\"\n",
    "    nr_tokens = len(tokens)\n",
    "    display = []\n",
    "    for word_index in range(nr_tokens):\n",
    "        if tags and tags[word_index] == 'BAD':\n",
    "            display.append(red(tokens[word_index]))\n",
    "        else:\n",
    "            display.append(tokens[word_index])\n",
    "    print \" \".join(display)\n",
    "\n",
    "def display_v001(tokens, tags):\n",
    "    \"\"\"\n",
    "    Number of tags is twice the number of tokens, imply gaps\n",
    "    \"\"\"\n",
    "    nr_tokens = len(tokens)\n",
    "    display = []\n",
    "    \n",
    "    # Initial OK/BAD gap\n",
    "    if tags[0] == 'BAD':\n",
    "        display = [red('___')]\n",
    "    else:\n",
    "        display = []\n",
    "    \n",
    "    # Separate word and gap tags\n",
    "    word_tags = tags[1:][::2]\n",
    "    gap_tags = tags[1:][1::2]\n",
    "    \n",
    "    for word_index in range(nr_tokens):\n",
    "        # Word tag\n",
    "        if word_tags[word_index] == 'BAD':\n",
    "            display.append(red(tokens[word_index]))\n",
    "        else:\n",
    "            display.append(tokens[word_index])\n",
    "        # Gap tag        \n",
    "        if gap_tags[word_index] == 'BAD':\n",
    "            display.append(red('___'))\n",
    "    print \" \".join(display)"
   ]
  },
  {
   "cell_type": "markdown",
   "metadata": {},
   "source": [
    "## WMT 2017 Data"
   ]
  },
  {
   "cell_type": "code",
   "execution_count": null,
   "metadata": {
    "collapsed": false
   },
   "outputs": [],
   "source": [
    "wmt2017 = '/mnt/data/datasets/WMT2017/WMT2017/task2_%s_training/' % LANGUAGE_PAIR\n",
    "tags_v001 = '/home/ramon/redefine_word_qe/DATA/temporal_files/task2_%s_training/' % LANGUAGE_PAIR\n",
    "# Data\n",
    "source_tokens = [x.split() for x in read_file(\"%s/train.src\" % wmt2017)]\n",
    "mt_tokens = [x.split() for x in read_file(\"%s/train.mt\" % wmt2017)]\n",
    "pe_tokens = [x.split() for x in read_file(\"%s/train.pe\" % wmt2017)]\n",
    "# Tags v0.0.1\n",
    "# To genrate this data see redefine_word_qe repository\n",
    "source_tags = [x.split() for x in read_file(\"%s/train.source_tags\" % tags_v001)]\n",
    "target_tags = [x.split() for x in read_file(\"%s/train.tags\" % tags_v001)]\n",
    "# Error detail\n",
    "error_detail = read_error_detail(\"%s/train.json\" % tags_v001)"
   ]
  },
  {
   "cell_type": "markdown",
   "metadata": {},
   "source": [
    "### Check error types"
   ]
  },
  {
   "cell_type": "code",
   "execution_count": null,
   "metadata": {
    "collapsed": false
   },
   "outputs": [],
   "source": [
    "# Get an example of this\n",
    "[index for index, errors in enumerate(error_detail) if any([error['type'] == 'deletion (shift)' for error in errors])][2]"
   ]
  },
  {
   "cell_type": "markdown",
   "metadata": {},
   "source": [
    "### Some interesting examples (for en_de train)\n",
    "* `index = 1`: Normal case (substitution). Note that by casuality the source-PE alignments for that word are empty.\n",
    "* `index = 2`: Deletions\n",
    "* `index = 3`: BAD gap at the beginning of the sentence\n",
    "* `index = 10`: Case where the word match heuristic fails (it is not a word realocation)\n",
    "* `index = 16`: Case where the word match heuristic works \"beziehen\" and fails \"das\""
   ]
  },
  {
   "cell_type": "code",
   "execution_count": null,
   "metadata": {
    "collapsed": false
   },
   "outputs": [],
   "source": [
    "index = 1\n",
    "error_detail[index]"
   ]
  },
  {
   "cell_type": "code",
   "execution_count": null,
   "metadata": {
    "collapsed": false
   },
   "outputs": [],
   "source": [
    "print(\"Source/PE/MT\")\n",
    "display(source_tokens[index], source_tags[index])\n",
    "display(pe_tokens[index])\n",
    "display_v001(mt_tokens[index], target_tags[index])"
   ]
  },
  {
   "cell_type": "code",
   "execution_count": null,
   "metadata": {
    "collapsed": true
   },
   "outputs": [],
   "source": []
  }
 ],
 "metadata": {
  "kernelspec": {
   "display_name": "Python 2",
   "language": "python",
   "name": "python2"
  },
  "language_info": {
   "codemirror_mode": {
    "name": "ipython",
    "version": 2
   },
   "file_extension": ".py",
   "mimetype": "text/x-python",
   "name": "python",
   "nbconvert_exporter": "python",
   "pygments_lexer": "ipython2",
   "version": "2.7.12"
  }
 },
 "nbformat": 4,
 "nbformat_minor": 1
}

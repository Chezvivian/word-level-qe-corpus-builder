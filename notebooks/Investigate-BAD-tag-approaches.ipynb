{
 "cells": [
  {
   "cell_type": "markdown",
   "metadata": {},
   "source": [
    "# Investigate BAD-tag approaches"
   ]
  },
  {
   "cell_type": "code",
   "execution_count": 30,
   "metadata": {
    "collapsed": true
   },
   "outputs": [],
   "source": [
    "import codecs"
   ]
  },
  {
   "cell_type": "code",
   "execution_count": 31,
   "metadata": {
    "collapsed": false
   },
   "outputs": [],
   "source": [
    "def read_file(file_path):\n",
    "    with codecs.open(file_path, 'r', 'utf-8') as fid:\n",
    "        return [line.rstrip() for line in fid.readlines()]\n",
    "    \n",
    "def red(string):\n",
    "    return \"\\033[31m%s\\033[0m\" % string\n",
    "\n",
    "def display(tokens, tags=None):\n",
    "    \"\"\"\n",
    "    Same number of tags as tokens\n",
    "    \"\"\"\n",
    "    nr_tokens = len(tokens)\n",
    "    display = []\n",
    "    for word_index in range(nr_tokens):\n",
    "        if tags and tags[word_index] == 'BAD':\n",
    "            display.append(red(tokens[word_index]))\n",
    "        else:\n",
    "            display.append(tokens[word_index])\n",
    "    print \" \".join(display)\n",
    "\n",
    "def display_v001(tokens, tags):\n",
    "    \"\"\"\n",
    "    Number of tags is twice the number of tokens, imply gaps\n",
    "    \"\"\"\n",
    "    nr_tokens = len(tokens)\n",
    "    display = []\n",
    "    for word_index in range(nr_tokens):\n",
    "        # Word tag\n",
    "        if tags[2*word_index] == 'BAD':\n",
    "            display.append(red(tokens[word_index]))\n",
    "        else:\n",
    "            display.append(tokens[word_index])\n",
    "        # Gap tag        \n",
    "        if tags[2*word_index+1] == 'BAD':\n",
    "            display.append(red('___'))\n",
    "    print \" \".join(display)"
   ]
  },
  {
   "cell_type": "markdown",
   "metadata": {},
   "source": [
    "## WMT 2017 Data"
   ]
  },
  {
   "cell_type": "code",
   "execution_count": 32,
   "metadata": {
    "collapsed": false
   },
   "outputs": [],
   "source": [
    "wmt2017 = 'DATA/task2_en-de_training/'\n",
    "tags_v001 = 'DATA/temporal_files/'\n",
    "# Data\n",
    "source_tokens = [x.split() for x in read_file(\"%s/train.src\" % wmt2017)]\n",
    "mt_tokens = [x.split() for x in read_file(\"%s/train.mt\" % wmt2017)]\n",
    "pe_tokens = [x.split() for x in read_file(\"%s/train.pe\" % wmt2017)]\n",
    "# Tags v0.0.1\n",
    "# To genrate this data see redefine_word_qe repository\n",
    "source_tags = [x.split() for x in read_file(\"%s/source.tags\" % tags_v001)]\n",
    "target_tags = [x.split() for x in read_file(\"%s/target.tags\" % tags_v001)]"
   ]
  },
  {
   "cell_type": "code",
   "execution_count": 33,
   "metadata": {
    "collapsed": false
   },
   "outputs": [
    {
     "name": "stdout",
     "output_type": "stream",
     "text": [
      "Area type and type on a path \u001b[31mcan\u001b[0m \u001b[31mbe\u001b[0m aligned with \u001b[31mone\u001b[0m or \u001b[31mboth\u001b[0m edges of a type path .\n",
      "Bereichsart und Pfadtext kann an einer oder beiden Kanten eines Pfads ausgerichtet werden .\n",
      "Bereichsart und Pfadtext \u001b[31m___\u001b[0m \u001b[31mmit\u001b[0m einer oder \u001b[31mbeide\u001b[0m Kanten eines Pfads ausgerichtet werden \u001b[31mkönnen\u001b[0m .\n"
     ]
    }
   ],
   "source": [
    "index = 300\n",
    "display(source_tokens[index][:], source_tags[index][:])\n",
    "display(pe_tokens[index][:])\n",
    "display_v001(mt_tokens[index][:], target_tags[index][:])"
   ]
  },
  {
   "cell_type": "code",
   "execution_count": null,
   "metadata": {
    "collapsed": true
   },
   "outputs": [],
   "source": []
  }
 ],
 "metadata": {
  "kernelspec": {
   "display_name": "Python 2",
   "language": "python",
   "name": "python2"
  },
  "language_info": {
   "codemirror_mode": {
    "name": "ipython",
    "version": 2
   },
   "file_extension": ".py",
   "mimetype": "text/x-python",
   "name": "python",
   "nbconvert_exporter": "python",
   "pygments_lexer": "ipython2",
   "version": "2.7.12"
  }
 },
 "nbformat": 4,
 "nbformat_minor": 1
}

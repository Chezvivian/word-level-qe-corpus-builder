{
 "cells": [
  {
   "cell_type": "markdown",
   "metadata": {
    "deletable": true,
    "editable": true
   },
   "source": [
    "# Investigate BAD-tag approaches"
   ]
  },
  {
   "cell_type": "code",
   "execution_count": null,
   "metadata": {
    "collapsed": true,
    "deletable": true,
    "editable": true
   },
   "outputs": [],
   "source": [
    "LANGUAGE_PAIR = \"en-de\""
   ]
  },
  {
   "cell_type": "code",
   "execution_count": null,
   "metadata": {
    "collapsed": false,
    "deletable": true,
    "editable": true
   },
   "outputs": [],
   "source": [
    "import codecs\n",
    "import json\n",
    "\n",
    "def read_file(file_path):\n",
    "    with codecs.open(file_path, 'r', 'utf-8') as fid:\n",
    "        return [line.rstrip() for line in fid.readlines()]\n",
    "   \n",
    "def read_error_detail(file_path):\n",
    "    with codecs.open(file_path, 'r', 'utf-8') as fid:\n",
    "        return [json.loads(line.strip()) for line in fid.readlines()]\n",
    "\n",
    "def red(string):\n",
    "    return \"\\033[31m%s\\033[0m\" % string\n",
    "\n",
    "def display(tokens, tags=None):\n",
    "    \"\"\"\n",
    "    Same number of tags as tokens\n",
    "    \"\"\"\n",
    "    nr_tokens = len(tokens)\n",
    "    display = []\n",
    "    for word_index in range(nr_tokens):\n",
    "        if tags and tags[word_index] == 'BAD':\n",
    "            display.append(red(tokens[word_index]))\n",
    "        else:\n",
    "            display.append(tokens[word_index])\n",
    "    print \" \".join(display)\n",
    "\n",
    "def display_v001(tokens, tags):\n",
    "    \"\"\"\n",
    "    Number of tags is twice the number of tokens, imply gaps\n",
    "    \"\"\"\n",
    "    nr_tokens = len(tokens)\n",
    "    display = []\n",
    "    \n",
    "    # Initial OK/BAD gap\n",
    "    if tags[0] == 'BAD':\n",
    "        display = [red('___')]\n",
    "    else:\n",
    "        display = []\n",
    "    \n",
    "    # Separate word and gap tags\n",
    "    word_tags = tags[1:][::2]\n",
    "    gap_tags = tags[1:][1::2]\n",
    "    \n",
    "    for word_index in range(nr_tokens):\n",
    "        # Word tag\n",
    "        if word_tags[word_index] == 'BAD':\n",
    "            display.append(red(tokens[word_index]))\n",
    "        else:\n",
    "            display.append(tokens[word_index])\n",
    "        # Gap tag        \n",
    "        if gap_tags[word_index] == 'BAD':\n",
    "            display.append(red('___'))\n",
    "    print \" \".join(display)"
   ]
  },
  {
   "cell_type": "markdown",
   "metadata": {
    "deletable": true,
    "editable": true
   },
   "source": [
    "## WMT 2017 Data"
   ]
  },
  {
   "cell_type": "code",
   "execution_count": 3,
   "metadata": {
    "collapsed": false,
    "deletable": true,
    "editable": true
   },
   "outputs": [],
   "source": [
    "wmt2017 = '/mnt/data/datasets/WMT2017/WMT2017/task2_%s_training/' % LANGUAGE_PAIR\n",
    "tags_v001 = '/home/ramon/redefine_word_qe/DATA/temporal_files/task2_%s_training/' % LANGUAGE_PAIR\n",
    "# Data\n",
    "source_tokens = [x.split() for x in read_file(\"%s/train.src\" % wmt2017)]\n",
    "mt_tokens = [x.split() for x in read_file(\"%s/train.mt\" % wmt2017)]\n",
    "pe_tokens = [x.split() for x in read_file(\"%s/train.pe\" % wmt2017)]\n",
    "# Tags v0.0.1\n",
    "# To genrate this data see redefine_word_qe repository\n",
    "source_tags = [x.split() for x in read_file(\"%s/train.source_tags\" % tags_v001)]\n",
    "target_tags = [x.split() for x in read_file(\"%s/train.tags\" % tags_v001)]\n",
    "# Error detail\n",
    "error_detail = read_error_detail(\"%s/train.json\" % tags_v001)"
   ]
  },
  {
   "cell_type": "markdown",
   "metadata": {},
   "source": [
    "### Check error types"
   ]
  },
  {
   "cell_type": "code",
   "execution_count": 7,
   "metadata": {
    "collapsed": false
   },
   "outputs": [
    {
     "data": {
      "text/plain": [
       "18"
      ]
     },
     "execution_count": 7,
     "metadata": {},
     "output_type": "execute_result"
    }
   ],
   "source": [
    "len(pe_tokens[0])"
   ]
  },
  {
   "cell_type": "code",
   "execution_count": 4,
   "metadata": {
    "collapsed": false,
    "deletable": true,
    "editable": true
   },
   "outputs": [
    {
     "name": "stdout",
     "output_type": "stream",
     "text": [
      "Area type and type on a path \u001b[31mcan\u001b[0m \u001b[31mbe\u001b[0m aligned with \u001b[31mone\u001b[0m or \u001b[31mboth\u001b[0m edges of a type path .\n",
      "Bereichsart und Pfadtext kann an einer oder beiden Kanten eines Pfads ausgerichtet werden .\n",
      "Bereichsart und Pfadtext \u001b[31mmit\u001b[0m \u001b[31m___\u001b[0m einer oder beide \u001b[31m___\u001b[0m Kanten eines Pfads ausgerichtet werden können \u001b[31m___\u001b[0m .\n"
     ]
    }
   ],
   "source": [
    "index = 300\n",
    "display(source_tokens[index][:], source_tags[index][:])\n",
    "display(pe_tokens[index][:])\n",
    "display_v001(mt_tokens[index][:], target_tags[index][:])"
   ]
  },
  {
   "cell_type": "code",
   "execution_count": null,
   "metadata": {
    "collapsed": true,
    "deletable": true,
    "editable": true
   },
   "outputs": [],
   "source": []
  }
 ],
 "metadata": {
  "kernelspec": {
   "display_name": "Python 2",
   "language": "python",
   "name": "python2"
  },
  "language_info": {
   "codemirror_mode": {
    "name": "ipython",
    "version": 2
   },
   "file_extension": ".py",
   "mimetype": "text/x-python",
   "name": "python",
   "nbconvert_exporter": "python",
   "pygments_lexer": "ipython2",
   "version": "2.7.13"
  }
 },
 "nbformat": 4,
 "nbformat_minor": 1
}
